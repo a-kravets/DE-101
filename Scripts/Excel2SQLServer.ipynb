{
 "cells": [
  {
   "cell_type": "markdown",
   "metadata": {},
   "source": [
    "# Excel to SQL Server"
   ]
  },
  {
   "cell_type": "markdown",
   "metadata": {},
   "source": [
    "This script creates a table and inserts values from Excel file into SQL Server"
   ]
  },
  {
   "cell_type": "code",
   "execution_count": null,
   "metadata": {},
   "outputs": [],
   "source": [
    "import pandas.io.sql\n",
    "import pyodbc\n",
    "import pandas as pd\n",
    "import datetime\n",
    "import xlrd"
   ]
  },
  {
   "cell_type": "code",
   "execution_count": null,
   "metadata": {},
   "outputs": [],
   "source": [
    "server = '[SERVER NAME]'\n",
    "db = '[DATABASE NAME]'\n",
    "\n",
    "# create Connection and Cursor objects\n",
    "conn = pyodbc.connect('DRIVER={SQL Server};SERVER=' + server + ';DATABASE=' + db + ';Trusted_Connection=yes')\n",
    "cursor = conn.cursor()"
   ]
  },
  {
   "cell_type": "markdown",
   "metadata": {},
   "source": [
    "If you need to rename your columns for database, the code below does right that"
   ]
  },
  {
   "cell_type": "code",
   "execution_count": null,
   "metadata": {},
   "outputs": [],
   "source": [
    "# read data\n",
    "#data = pd.read_excel('covid1.xls')\n",
    "'''\n",
    "# rename columns\n",
    "data = data.rename(columns={'date Rep': 'dateRep',\n",
    "                            'continent Exp': 'continentExp'})\n",
    "'''\n",
    "# export\n",
    "#data.to_excel('covid1.xls', index=False)"
   ]
  },
  {
   "cell_type": "code",
   "execution_count": null,
   "metadata": {},
   "outputs": [],
   "source": [
    "# Open the workbook and define the worksheet\n",
    "book = xlrd.open_workbook(\"covid1.xls\")\n",
    "sheet = book.sheet_by_name(\"Sheet1\")"
   ]
  },
  {
   "cell_type": "markdown",
   "metadata": {},
   "source": [
    "Create table query with rows from Excel file"
   ]
  },
  {
   "cell_type": "code",
   "execution_count": null,
   "metadata": {},
   "outputs": [],
   "source": [
    "query1 = \"\"\"\n",
    "DROP TABLE IF EXISTS covidn;\n",
    "CREATE TABLE covidn (\n",
    "    dateRep nchar(25),\n",
    "    day int,\n",
    "    month int,\n",
    "    year int,\n",
    "    cases int,\n",
    "    deaths nchar(100),\n",
    "    countriesAndTerritories nchar(100),\n",
    "    geold nchar(100),\n",
    "    countryterritoryCode nchar(100),\n",
    "    popData2019 int,\n",
    "    continentExp nchar(10)\n",
    ")\"\"\""
   ]
  },
  {
   "cell_type": "markdown",
   "metadata": {},
   "source": [
    "Insert values into table template"
   ]
  },
  {
   "cell_type": "code",
   "execution_count": null,
   "metadata": {},
   "outputs": [],
   "source": [
    "query = \"\"\"\n",
    "INSERT INTO covidn (\n",
    "    dateRep,\n",
    "    day,\n",
    "    month,\n",
    "    year,\n",
    "    cases,\n",
    "    deaths,\n",
    "    countriesAndTerritories,\n",
    "    geold,\n",
    "    countryterritoryCode,\n",
    "    popData2019,\n",
    "    continentExp) VALUES (?, ?, ?, ?, ?, ?, ?, ?, ?, ?, ?)\"\"\""
   ]
  },
  {
   "cell_type": "code",
   "execution_count": null,
   "metadata": {},
   "outputs": [],
   "source": [
    "# execute create table\n",
    "try:\n",
    "    cursor.execute(query1)\n",
    "    conn.commit()\n",
    "except pyodbc.ProgrammingError:\n",
    "    pass"
   ]
  },
  {
   "cell_type": "code",
   "execution_count": null,
   "metadata": {},
   "outputs": [],
   "source": [
    "# takes existing row count in the database for validation later\n",
    "cursor.execute(\"SELECT count(*) FROM covidn\")\n",
    "before_import = cursor.fetchone()"
   ]
  },
  {
   "cell_type": "code",
   "execution_count": null,
   "metadata": {},
   "outputs": [],
   "source": [
    "for r in range(1, sheet.nrows):\n",
    "    dateRep = sheet.cell(r,0).value\n",
    "    day = int(sheet.cell(r,1).value)\n",
    "    month = int(sheet.cell(r,2).value)\n",
    "    year = int(sheet.cell(r,3).value)\n",
    "    cases = int(sheet.cell(r,4).value)\n",
    "    deaths = int(sheet.cell(r,5).value)\n",
    "    countriesAndTerritories = sheet.cell(r,6).value\n",
    "    geold = sheet.cell(r,7).value\n",
    "    countryterritoryCode = sheet.cell(r,8).value\n",
    "    try:\n",
    "        popData2019 = int(sheet.cell(r,9).value)\n",
    "    except:\n",
    "        popData2019 = 0\n",
    "    continentExp = sheet.cell(r,10).value\n",
    "\n",
    "    # Assign values from each row\n",
    "    values = (dateRep, day, month, year, cases, deaths, countriesAndTerritories, geold, \n",
    "              countryterritoryCode, popData2019, continentExp)\n",
    "\n",
    "    # Execute sql query\n",
    "    cursor.execute(query, values)\n",
    "\n",
    "# Commit the transaction\n",
    "conn.commit()"
   ]
  },
  {
   "cell_type": "code",
   "execution_count": null,
   "metadata": {},
   "outputs": [],
   "source": [
    "# If you want to check if all rows are imported\n",
    "cursor.execute(\"SELECT count(*) FROM covidn\")\n",
    "result = cursor.fetchone()\n",
    "\n",
    "print((result[0] - before_import[0]) == len(data.index))  # should be True in case all rows were imported to database\n",
    "\n",
    "# Close the database connection\n",
    "conn.close()"
   ]
  }
 ],
 "metadata": {
  "kernelspec": {
   "display_name": "Python 3",
   "language": "python",
   "name": "python3"
  },
  "language_info": {
   "codemirror_mode": {
    "name": "ipython",
    "version": 3
   },
   "file_extension": ".py",
   "mimetype": "text/x-python",
   "name": "python",
   "nbconvert_exporter": "python",
   "pygments_lexer": "ipython3",
   "version": "3.7.6"
  }
 },
 "nbformat": 4,
 "nbformat_minor": 4
}
